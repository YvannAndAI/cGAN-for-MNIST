{
  "nbformat": 4,
  "nbformat_minor": 0,
  "metadata": {
    "colab": {
      "provenance": []
    },
    "kernelspec": {
      "name": "python3",
      "display_name": "Python 3"
    },
    "language_info": {
      "name": "python"
    }
  },
  "cells": [
    {
      "cell_type": "code",
      "source": [
        "import torch\n",
        "import torch.nn as nn\n",
        "import torch.optim as optim\n",
        "from torchvision import datasets, transforms\n",
        "from torch.utils.data import DataLoader\n",
        "import matplotlib.pyplot as plt\n",
        "import numpy as np\n",
        "\n"
      ],
      "metadata": {
        "id": "VcoMCVmewni1"
      },
      "execution_count": null,
      "outputs": []
    },
    {
      "cell_type": "code",
      "source": [
        "# Hyperparamètres\n",
        "latent_dim = 100  # Dimension du bruit aléatoire\n",
        "num_classes = 10  # Nombre de classes dans MNIST (0-9)\n",
        "img_size = 28  # Taille des images\n",
        "channels = 1  # Canal (1 pour grayscale)\n",
        "batch_size = 64\n",
        "lr = 0.0002  # Taux d'apprentissage\n",
        "epochs = 50\n",
        "device = torch.device(\"cuda\" if torch.cuda.is_available() else \"cpu\")\n"
      ],
      "metadata": {
        "id": "wzHOG9Bkwvd7"
      },
      "execution_count": null,
      "outputs": []
    },
    {
      "cell_type": "code",
      "source": [
        "# Dataset MNIST\n",
        "transform = transforms.Compose([\n",
        "    transforms.ToTensor(),\n",
        "    transforms.Normalize([0.5], [0.5])  # Normalisation entre -1 et 1\n",
        "])\n",
        "mnist = datasets.MNIST(root=\"./data\", train=True, transform=transform, download=True)\n",
        "dataloader = DataLoader(mnist, batch_size=batch_size, shuffle=True)\n"
      ],
      "metadata": {
        "colab": {
          "base_uri": "https://localhost:8080/"
        },
        "id": "9lX_2Ftbw0d-",
        "outputId": "882720c5-b12e-441c-c2ba-170532b800fb"
      },
      "execution_count": null,
      "outputs": [
        {
          "output_type": "stream",
          "name": "stdout",
          "text": [
            "Downloading http://yann.lecun.com/exdb/mnist/train-images-idx3-ubyte.gz\n",
            "Failed to download (trying next):\n",
            "<urlopen error [Errno 111] Connection refused>\n",
            "\n",
            "Downloading https://ossci-datasets.s3.amazonaws.com/mnist/train-images-idx3-ubyte.gz\n",
            "Downloading https://ossci-datasets.s3.amazonaws.com/mnist/train-images-idx3-ubyte.gz to ./data/MNIST/raw/train-images-idx3-ubyte.gz\n"
          ]
        },
        {
          "output_type": "stream",
          "name": "stderr",
          "text": [
            "100%|██████████| 9.91M/9.91M [00:00<00:00, 16.0MB/s]\n"
          ]
        },
        {
          "output_type": "stream",
          "name": "stdout",
          "text": [
            "Extracting ./data/MNIST/raw/train-images-idx3-ubyte.gz to ./data/MNIST/raw\n",
            "\n",
            "Downloading http://yann.lecun.com/exdb/mnist/train-labels-idx1-ubyte.gz\n",
            "Failed to download (trying next):\n",
            "<urlopen error [Errno 111] Connection refused>\n",
            "\n",
            "Downloading https://ossci-datasets.s3.amazonaws.com/mnist/train-labels-idx1-ubyte.gz\n",
            "Downloading https://ossci-datasets.s3.amazonaws.com/mnist/train-labels-idx1-ubyte.gz to ./data/MNIST/raw/train-labels-idx1-ubyte.gz\n"
          ]
        },
        {
          "output_type": "stream",
          "name": "stderr",
          "text": [
            "100%|██████████| 28.9k/28.9k [00:00<00:00, 476kB/s]\n"
          ]
        },
        {
          "output_type": "stream",
          "name": "stdout",
          "text": [
            "Extracting ./data/MNIST/raw/train-labels-idx1-ubyte.gz to ./data/MNIST/raw\n",
            "\n",
            "Downloading http://yann.lecun.com/exdb/mnist/t10k-images-idx3-ubyte.gz\n",
            "Failed to download (trying next):\n",
            "<urlopen error [Errno 111] Connection refused>\n",
            "\n",
            "Downloading https://ossci-datasets.s3.amazonaws.com/mnist/t10k-images-idx3-ubyte.gz\n",
            "Downloading https://ossci-datasets.s3.amazonaws.com/mnist/t10k-images-idx3-ubyte.gz to ./data/MNIST/raw/t10k-images-idx3-ubyte.gz\n"
          ]
        },
        {
          "output_type": "stream",
          "name": "stderr",
          "text": [
            "100%|██████████| 1.65M/1.65M [00:00<00:00, 3.85MB/s]\n"
          ]
        },
        {
          "output_type": "stream",
          "name": "stdout",
          "text": [
            "Extracting ./data/MNIST/raw/t10k-images-idx3-ubyte.gz to ./data/MNIST/raw\n",
            "\n",
            "Downloading http://yann.lecun.com/exdb/mnist/t10k-labels-idx1-ubyte.gz\n",
            "Failed to download (trying next):\n",
            "<urlopen error [Errno 111] Connection refused>\n",
            "\n",
            "Downloading https://ossci-datasets.s3.amazonaws.com/mnist/t10k-labels-idx1-ubyte.gz\n",
            "Downloading https://ossci-datasets.s3.amazonaws.com/mnist/t10k-labels-idx1-ubyte.gz to ./data/MNIST/raw/t10k-labels-idx1-ubyte.gz\n"
          ]
        },
        {
          "output_type": "stream",
          "name": "stderr",
          "text": [
            "100%|██████████| 4.54k/4.54k [00:00<00:00, 4.09MB/s]"
          ]
        },
        {
          "output_type": "stream",
          "name": "stdout",
          "text": [
            "Extracting ./data/MNIST/raw/t10k-labels-idx1-ubyte.gz to ./data/MNIST/raw\n",
            "\n"
          ]
        },
        {
          "output_type": "stream",
          "name": "stderr",
          "text": [
            "\n"
          ]
        }
      ]
    },
    {
      "cell_type": "code",
      "source": [
        "import torch\n",
        "import torch.nn as nn\n",
        "\n",
        "# Générateur : génère des images à partir d'un vecteur aléatoire (latent) et d'une classe donnée.\n",
        "class Generator(nn.Module):\n",
        "    def __init__(self, latent_dim, num_classes, img_size, channels):\n",
        "        super(Generator, self).__init__()\n",
        "\n",
        "        # Embedding des labels (vecteur dense associé à chaque classe)\n",
        "        self.label_emb = nn.Embedding(num_classes, num_classes)  # Taille num_classes pour un one-hot-like embedding\n",
        "\n",
        "        # Taille initiale après le premier reshape (réduction de la taille spatiale)\n",
        "        self.init_size = img_size // 4\n",
        "\n",
        "        # Couche entièrement connectée pour projeter l'entrée (bruit + labels) en un tenseur spatial.\n",
        "        self.l1 = nn.Sequential(\n",
        "            nn.Linear(latent_dim + num_classes, 128 * self.init_size ** 2)  # Projection dans un espace de caractéristiques initiales\n",
        "        )\n",
        "\n",
        "        # Blocs de convolutions pour augmenter la taille spatiale et affiner l'image\n",
        "        self.conv_blocks = nn.Sequential(\n",
        "            nn.BatchNorm2d(128),  # Normalisation des canaux pour stabiliser l'apprentissage\n",
        "            nn.Upsample(scale_factor=2),  # Agrandissement de la taille spatiale (doublement)\n",
        "            nn.Conv2d(128, 128, 3, stride=1, padding=1),  # Convolution pour affiner les motifs\n",
        "            nn.BatchNorm2d(128, 0.8),  # Nouvelle normalisation des canaux\n",
        "            nn.LeakyReLU(0.2, inplace=True),  # Activation non-linéaire pour ajouter de la complexité\n",
        "            nn.Upsample(scale_factor=2),  # Deuxième agrandissement spatial\n",
        "            nn.Conv2d(128, channels, 3, stride=1, padding=1),  # Convolution finale pour générer l'image finale\n",
        "            nn.Tanh()  # Activation Tanh pour ramener les valeurs des pixels entre -1 et 1\n",
        "        )\n",
        "\n",
        "    def forward(self, noise, labels):\n",
        "        # Concatenation du bruit et des embeddings de labels\n",
        "        gen_input = torch.cat((noise, self.label_emb(labels)), -1)\n",
        "\n",
        "        # Projection linéaire et mise en forme pour convolution\n",
        "        out = self.l1(gen_input)\n",
        "        out = out.view(out.size(0), 128, self.init_size, self.init_size)  # Reshape pour correspondre à une entrée convolutive\n",
        "\n",
        "        # Passage dans les blocs convolutifs pour générer l'image\n",
        "        img = self.conv_blocks(out)\n",
        "        return img\n",
        "\n",
        "\n",
        "# Discriminateur : classe le contenu généré comme réel ou faux (GAN classique)\n",
        "class Discriminator(nn.Module):\n",
        "    def __init__(self, num_classes, img_size, channels):\n",
        "        super(Discriminator, self).__init__()\n",
        "\n",
        "        # Embedding des labels pour les concaténer à l'image\n",
        "        self.label_emb = nn.Embedding(num_classes, num_classes)\n",
        "\n",
        "        # Modèle séquentiel pour classifier l'entrée image\n",
        "        self.model = nn.Sequential(\n",
        "            nn.Linear(num_classes + int(channels * img_size ** 2), 512),  # Combinaison image + label dans un espace latent\n",
        "            nn.LeakyReLU(0.2, inplace=True),  # Activation pour capturer des motifs complexes\n",
        "            nn.Linear(512, 512),  # Projection dans un espace réduit\n",
        "            nn.Dropout(0.4),  # Régularisation pour éviter le surapprentissage\n",
        "            nn.LeakyReLU(0.2, inplace=True),  # Activation supplémentaire\n",
        "            nn.Linear(512, 1),  # Sortie unique pour la validité\n",
        "            nn.Sigmoid()  # Probabilité de validité (entre 0 et 1)\n",
        "        )\n",
        "\n",
        "    def forward(self, img, labels):\n",
        "        # Mise à plat de l'image et concaténation avec les embeddings des labels\n",
        "        d_in = torch.cat((img.view(img.size(0), -1), self.label_emb(labels)), -1)\n",
        "\n",
        "        # Passage dans le discriminateur\n",
        "        validity = self.model(d_in)\n",
        "        return validity\n"
      ],
      "metadata": {
        "id": "y_H5-H-3gB7m"
      },
      "execution_count": null,
      "outputs": []
    },
    {
      "cell_type": "code",
      "source": [
        "# Initialisation des modèles\n",
        "generator = Generator(latent_dim, num_classes, img_size, channels).to(device)\n",
        "discriminator = Discriminator(num_classes, img_size, channels).to(device)\n",
        "\n",
        "# Optimiseurs\n",
        "optimizer_G = optim.Adam(generator.parameters(), lr=lr, betas=(0.5, 0.999))\n",
        "optimizer_D = optim.Adam(discriminator.parameters(), lr=lr, betas=(0.5, 0.999))\n",
        "\n",
        "# Fonction de perte\n",
        "adversarial_loss = nn.BCELoss()\n"
      ],
      "metadata": {
        "id": "_QDxPagtw9Wt"
      },
      "execution_count": null,
      "outputs": []
    },
    {
      "cell_type": "code",
      "source": [
        "for epoch in range(50):\n",
        "    for i, (imgs, labels) in enumerate(dataloader):\n",
        "        batch_size = imgs.size(0)\n",
        "\n",
        "        # Réalités et faux labels\n",
        "        valid = torch.ones(batch_size, 1, device=device)\n",
        "        fake = torch.zeros(batch_size, 1, device=device)\n",
        "\n",
        "        # Préparer les données\n",
        "        real_imgs = imgs.to(device)\n",
        "        labels = labels.to(device)\n",
        "\n",
        "        # 1. Entraîner le Générateur\n",
        "        optimizer_G.zero_grad()\n",
        "\n",
        "        # Bruit aléatoire et étiquettes aléatoires\n",
        "        z = torch.randn(batch_size, latent_dim, device=device)\n",
        "        gen_labels = torch.randint(0, num_classes, (batch_size,), device=device)\n",
        "\n",
        "        # Générer des images\n",
        "        gen_imgs = generator(z, gen_labels)\n",
        "\n",
        "        # Calculer la perte du générateur\n",
        "        g_loss = adversarial_loss(discriminator(gen_imgs, gen_labels), valid)\n",
        "\n",
        "        # Backpropagation\n",
        "        g_loss.backward()\n",
        "        optimizer_G.step()\n",
        "\n",
        "        # 2. Entraîner le Discriminateur\n",
        "        optimizer_D.zero_grad()\n",
        "\n",
        "        # Perte pour les vraies images\n",
        "        real_loss = adversarial_loss(discriminator(real_imgs, labels), valid)\n",
        "\n",
        "        # Perte pour les fausses images\n",
        "        fake_loss = adversarial_loss(discriminator(gen_imgs.detach(), gen_labels), fake)\n",
        "\n",
        "        # Perte totale du Discriminateur\n",
        "        d_loss = (real_loss + fake_loss) / 2\n",
        "\n",
        "        # Backpropagation\n",
        "        d_loss.backward()\n",
        "        optimizer_D.step()\n",
        "\n",
        "        # Affichage des logs\n",
        "        if i % 100 == 0:\n",
        "            print(f\"[Epoch {epoch}/{epochs}] [Batch {i}/{len(dataloader)}] [D loss: {d_loss.item()}] [G loss: {g_loss.item()}]\")\n"
      ],
      "metadata": {
        "id": "Da5KfNtFw_kn"
      },
      "execution_count": null,
      "outputs": []
    },
    {
      "cell_type": "code",
      "source": [
        "import matplotlib.pyplot as plt\n",
        "\n",
        "def generate_and_save_images(generator, num_images=10):\n",
        "    z = torch.randn(num_images, latent_dim, device=device)\n",
        "    labels = torch.arange(num_images, device=device)\n",
        "    gen_imgs = generator(z, labels).detach().cpu()\n",
        "    fig, axs = plt.subplots(1, num_images, figsize=(15, 15))\n",
        "    for i, img in enumerate(gen_imgs):\n",
        "        axs[i].imshow(img.squeeze(), cmap='gray')\n",
        "        axs[i].axis('off')\n",
        "        axs[i].set_title(f\"Label: {labels[i].item()}\")\n",
        "    plt.show()\n",
        "\n",
        "# Générer des exemples\n",
        "generate_and_save_images(generator)\n"
      ],
      "metadata": {
        "colab": {
          "base_uri": "https://localhost:8080/",
          "height": 154
        },
        "id": "ZhYdXdalxFXm",
        "outputId": "ddf9ed7c-0e69-4cc8-d182-f4614979021f"
      },
      "execution_count": null,
      "outputs": [
        {
          "output_type": "display_data",
          "data": {
            "text/plain": [
              "<Figure size 1500x1500 with 10 Axes>"
            ],
            "image/png": "[encoded data removed]"
          },
          "metadata": {}
        }
      ]
    }
  ]
}